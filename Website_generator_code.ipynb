{
  "cells": [
    {
      "cell_type": "markdown",
      "metadata": {
        "id": "view-in-github",
        "colab_type": "text"
      },
      "source": [
        "<a href=\"https://colab.research.google.com/github/Likithareddy99/Missing_lab_tests/blob/main/Website_generator_code.ipynb\" target=\"_parent\"><img src=\"https://colab.research.google.com/assets/colab-badge.svg\" alt=\"Open In Colab\"/></a>"
      ]
    },
    {
      "cell_type": "code",
      "execution_count": null,
      "metadata": {
        "colab": {
          "base_uri": "https://localhost:8080/"
        },
        "id": "Lwxz46CuW46R",
        "outputId": "2680e4a9-be72-4c0d-825a-e3302abd723f"
      },
      "outputs": [
        {
          "name": "stdout",
          "output_type": "stream",
          "text": [
            "Looking in indexes: https://pypi.org/simple, https://us-python.pkg.dev/colab-wheels/public/simple/\n",
            "Requirement already satisfied: pyngrok in /usr/local/lib/python3.7/dist-packages (5.1.0)\n",
            "Requirement already satisfied: PyYAML in /usr/local/lib/python3.7/dist-packages (from pyngrok) (6.0)\n"
          ]
        }
      ],
      "source": [
        "ngrokToken = '2EwEvjNNlcML5O4tqgGj3nzNJ42_3Aozp4foukYN7QCrBsTFt'\n",
        "ngrokTokenCmd = 'ngrok authtoken '+ngrokToken\n",
        "\n",
        "!pip install pyngrok"
      ]
    },
    {
      "cell_type": "code",
      "execution_count": null,
      "metadata": {
        "colab": {
          "base_uri": "https://localhost:8080/"
        },
        "id": "K0eSXQtKXBC4",
        "outputId": "ed16cf2c-9963-4365-e034-40cca09a9c2f"
      },
      "outputs": [
        {
          "name": "stdout",
          "output_type": "stream",
          "text": [
            "mkdir: cannot create directory ‘templates’: File exists\n",
            "mkdir: cannot create directory ‘static’: File exists\n"
          ]
        }
      ],
      "source": [
        "!mkdir templates\n",
        "!mkdir static\n",
        "\n",
        "!wget -q https://raw.githubusercontent.com/AhadKhwaja/Research_Internship/main/form.html\n",
        "!wget -q https://raw.githubusercontent.com/AhadKhwaja/Research_Internship/main/result.html\n",
        "!wget -q https://raw.githubusercontent.com/AhadKhwaja/Research_Internship/main/app.css\n",
        "!wget -q https://raw.githubusercontent.com/AhadKhwaja/Research_Internship/main/search.png\n",
        "\n",
        "!mv *.html templates/\n",
        "!mv *.css static/\n",
        "!mv *.png static/"
      ]
    },
    {
      "cell_type": "code",
      "execution_count": null,
      "metadata": {
        "colab": {
          "base_uri": "https://localhost:8080/"
        },
        "id": "DnkoJ2qdXByI",
        "outputId": "923a0c94-a596-4439-a142-c3927215775f"
      },
      "outputs": [
        {
          "data": {
            "text/plain": [
              "<NgrokTunnel: \"http://74c7-34-121-176-68.ngrok.io\" -> \"http://localhost:5000\">"
            ]
          },
          "execution_count": 6,
          "metadata": {},
          "output_type": "execute_result"
        }
      ],
      "source": [
        "from pyngrok import ngrok\n",
        "get_ipython().system_raw(ngrokTokenCmd)\n",
        "\n",
        "public_url = ngrok.connect(5000)\n",
        "public_url"
      ]
    },
    {
      "cell_type": "code",
      "execution_count": null,
      "metadata": {
        "colab": {
          "background_save": true,
          "base_uri": "https://localhost:8080/"
        },
        "id": "bgNXi39NXDVP",
        "outputId": "c4242cd9-1c58-48bd-bf88-2364e1714f02"
      },
      "outputs": [
        {
          "name": "stdout",
          "output_type": "stream",
          "text": [
            " * Serving Flask app \"__main__\" (lazy loading)\n",
            " * Environment: production\n",
            "\u001b[31m   WARNING: This is a development server. Do not use it in a production deployment.\u001b[0m\n",
            "\u001b[2m   Use a production WSGI server instead.\u001b[0m\n",
            " * Debug mode: off\n"
          ]
        },
        {
          "name": "stderr",
          "output_type": "stream",
          "text": [
            "INFO:werkzeug: * Running on http://0.0.0.0:5000/ (Press CTRL+C to quit)\n",
            "INFO:werkzeug:127.0.0.1 - - [30/Sep/2022 10:12:30] \"\u001b[37mGET / HTTP/1.1\u001b[0m\" 200 -\n",
            "INFO:werkzeug:127.0.0.1 - - [30/Sep/2022 10:12:30] \"\u001b[33mGET /favicon.ico HTTP/1.1\u001b[0m\" 404 -\n",
            "INFO:werkzeug:127.0.0.1 - - [30/Sep/2022 10:12:34] \"\u001b[37mGET /form HTTP/1.1\u001b[0m\" 200 -\n",
            "INFO:werkzeug:127.0.0.1 - - [30/Sep/2022 10:12:35] \"\u001b[33mGET /static/bootstrap.min.css HTTP/1.1\u001b[0m\" 404 -\n",
            "INFO:werkzeug:127.0.0.1 - - [30/Sep/2022 10:12:38] \"\u001b[37mGET /static/app.css HTTP/1.1\u001b[0m\" 200 -\n",
            "INFO:werkzeug:127.0.0.1 - - [30/Sep/2022 10:12:40] \"\u001b[33mGET /static/bootstrap.min.css HTTP/1.1\u001b[0m\" 404 -\n"
          ]
        }
      ],
      "source": [
        "from sys import argv\n",
        "from flask import Flask\n",
        "from flask import Flask, render_template, redirect, url_for, request\n",
        "app = Flask(__name__)\n",
        "\n",
        "@app.route(\"/\")\n",
        "def hello():\n",
        "    retString = 'Hello worldsss'\n",
        "    return retString\n",
        "\n",
        "@app.route('/form')\n",
        "def form():\n",
        "    return render_template('form.html')\n",
        " \n",
        "@app.route('/data/', methods = ['POST', 'GET'])\n",
        "def data():\n",
        "    if request.method == 'GET':\n",
        "        return f\"The URL /data is accessed directly. Try going to '/form' to submit form\"\n",
        "    if request.method == 'POST':\n",
        "        form_data = request.form\n",
        "        final_data = main(form_data['Input'])\n",
        "        print(final_data)\n",
        "        return render_template('result.html',result = form_data)\n",
        "\n",
        "if __name__ == \"__main__\":\n",
        "    app.run(host=\"0.0.0.0\")"
      ]
    }
  ],
  "metadata": {
    "colab": {
      "collapsed_sections": [],
      "provenance": [],
      "include_colab_link": true
    },
    "kernelspec": {
      "display_name": "Python 3",
      "name": "python3"
    },
    "language_info": {
      "name": "python"
    }
  },
  "nbformat": 4,
  "nbformat_minor": 0
}