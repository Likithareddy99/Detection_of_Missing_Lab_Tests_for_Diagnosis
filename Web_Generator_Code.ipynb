{
  "cells": [
    {
      "cell_type": "markdown",
      "metadata": {
        "id": "view-in-github",
        "colab_type": "text"
      },
      "source": [
        "<a href=\"https://colab.research.google.com/github/Likithareddy99/Missing_lab_tests/blob/main/Web_Generator_Code.ipynb\" target=\"_parent\"><img src=\"https://colab.research.google.com/assets/colab-badge.svg\" alt=\"Open In Colab\"/></a>"
      ]
    },
    {
      "cell_type": "code",
      "execution_count": null,
      "metadata": {
        "id": "Lwxz46CuW46R",
        "outputId": "4b791ac8-26fb-4c0c-f500-ebf40e52626c",
        "colab": {
          "base_uri": "https://localhost:8080/"
        }
      },
      "outputs": [
        {
          "output_type": "stream",
          "name": "stdout",
          "text": [
            "Looking in indexes: https://pypi.org/simple, https://us-python.pkg.dev/colab-wheels/public/simple/\n",
            "Requirement already satisfied: pyngrok in /usr/local/lib/python3.7/dist-packages (5.1.0)\n",
            "Requirement already satisfied: PyYAML in /usr/local/lib/python3.7/dist-packages (from pyngrok) (6.0)\n"
          ]
        }
      ],
      "source": [
        "ngrokToken = '2FV2D230ltMQHRjIdqBMJyB5JX4_2GXkSrxcqpmgdrYPTPeWg'\n",
        "ngrokTokenCmd = 'ngrok authtoken '+ngrokToken\n",
        "\n",
        "!pip install pyngrok"
      ]
    },
    {
      "cell_type": "code",
      "execution_count": null,
      "metadata": {
        "id": "K0eSXQtKXBC4",
        "colab": {
          "base_uri": "https://localhost:8080/"
        },
        "outputId": "f088f152-439a-4d7f-b92d-b083b6e88774"
      },
      "outputs": [
        {
          "output_type": "stream",
          "name": "stdout",
          "text": [
            "mkdir: cannot create directory ‘templates’: File exists\n",
            "mkdir: cannot create directory ‘static’: File exists\n"
          ]
        }
      ],
      "source": [
        "!mkdir templates\n",
        "!mkdir static\n",
        "\n",
        "!wget -q https://raw.githubusercontent.com/Likithareddy99/Missing_lab_tests/main/form.html\n",
        "!wget -q https://raw.githubusercontent.com/Likithareddy99/Missing_lab_tests/main/result.html\n",
        "!wget -q https://raw.githubusercontent.com/Likithareddy99/Missing_lab_tests/main/app.css\n",
        "!wget -q https://raw.githubusercontent.com/Likithareddy99/Missing_lab_tests/main/search.png\n",
        "!wget -q https://raw.githubusercontent.com/Likithareddy99/Missing_lab_tests/main/bg_1.png\n",
        "\n",
        "!mv *.html templates/\n",
        "!mv *.css static/\n",
        "!mv *.png static/"
      ]
    },
    {
      "cell_type": "code",
      "execution_count": null,
      "metadata": {
        "id": "DnkoJ2qdXByI",
        "colab": {
          "base_uri": "https://localhost:8080/"
        },
        "outputId": "fb2fcdae-9e5c-40a0-c596-2be1d596f08a"
      },
      "outputs": [
        {
          "output_type": "execute_result",
          "data": {
            "text/plain": [
              "<NgrokTunnel: \"http://184c-34-68-191-214.ngrok.io\" -> \"http://localhost:5000\">"
            ]
          },
          "metadata": {},
          "execution_count": 9
        }
      ],
      "source": [
        "from pyngrok import ngrok\n",
        "get_ipython().system_raw(ngrokTokenCmd)\n",
        "\n",
        "public_url = ngrok.connect(5000)\n",
        "public_url"
      ]
    },
    {
      "cell_type": "code",
      "execution_count": null,
      "metadata": {
        "id": "bgNXi39NXDVP",
        "colab": {
          "base_uri": "https://localhost:8080/"
        },
        "outputId": "9f8dcb4a-46ce-4180-cb32-1e2717aa64a0"
      },
      "outputs": [
        {
          "output_type": "stream",
          "name": "stdout",
          "text": [
            " * Serving Flask app \"__main__\" (lazy loading)\n",
            " * Environment: production\n",
            "\u001b[31m   WARNING: This is a development server. Do not use it in a production deployment.\u001b[0m\n",
            "\u001b[2m   Use a production WSGI server instead.\u001b[0m\n",
            " * Debug mode: off\n"
          ]
        },
        {
          "output_type": "stream",
          "name": "stderr",
          "text": [
            "INFO:werkzeug: * Running on http://0.0.0.0:5000/ (Press CTRL+C to quit)\n",
            "INFO:werkzeug:127.0.0.1 - - [30/Sep/2022 18:59:28] \"\u001b[37mGET / HTTP/1.1\u001b[0m\" 200 -\n",
            "INFO:werkzeug:127.0.0.1 - - [30/Sep/2022 18:59:29] \"\u001b[33mGET /static/bootstrap.min.css HTTP/1.1\u001b[0m\" 404 -\n",
            "INFO:werkzeug:127.0.0.1 - - [30/Sep/2022 18:59:29] \"\u001b[37mGET /static/app.css HTTP/1.1\u001b[0m\" 200 -\n",
            "INFO:werkzeug:127.0.0.1 - - [30/Sep/2022 18:59:29] \"\u001b[37mGET /static/search.png HTTP/1.1\u001b[0m\" 200 -\n",
            "INFO:werkzeug:127.0.0.1 - - [30/Sep/2022 18:59:29] \"\u001b[37mGET /static/bg_1.png HTTP/1.1\u001b[0m\" 200 -\n",
            "INFO:werkzeug:127.0.0.1 - - [30/Sep/2022 18:59:29] \"\u001b[33mGET /favicon.ico HTTP/1.1\u001b[0m\" 404 -\n"
          ]
        }
      ],
      "source": [
        "from sys import argv\n",
        "from flask import Flask\n",
        "from flask import Flask, render_template, redirect, url_for, request\n",
        "app = Flask(__name__)\n",
        "\n",
        "\"\"\"@app.route(\"/\")\n",
        "def hello():\n",
        "    retString = 'Hello visitor'\n",
        "    return retString\"\"\"\n",
        "\n",
        "@app.route('/')\n",
        "def form():\n",
        "    return render_template('form.html')\n",
        " \n",
        "@app.route('/data/', methods = ['POST', 'GET'])\n",
        "def data():\n",
        "    if request.method == 'GET':\n",
        "        return f\"The URL /data is accessed directly. Try going to '/form' to submit form\"\n",
        "    if request.method == 'POST':\n",
        "        form_data = request.form\n",
        "        final_data = main(form_data['Input'])\n",
        "        print(final_data)\n",
        "        return render_template('result.html',result = form_data)\n",
        "\n",
        "if __name__ == \"__main__\":\n",
        "    app.run(host=\"0.0.0.0\")"
      ]
    }
  ],
  "metadata": {
    "colab": {
      "collapsed_sections": [],
      "provenance": [],
      "include_colab_link": true
    },
    "kernelspec": {
      "display_name": "Python 3",
      "name": "python3"
    },
    "language_info": {
      "name": "python"
    }
  },
  "nbformat": 4,
  "nbformat_minor": 0
}